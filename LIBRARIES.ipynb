{
  "nbformat": 4,
  "nbformat_minor": 0,
  "metadata": {
    "colab": {
      "provenance": []
    },
    "kernelspec": {
      "name": "python3",
      "display_name": "Python 3"
    },
    "language_info": {
      "name": "python"
    }
  },
  "cells": [
    {
      "cell_type": "code",
      "execution_count": 3,
      "metadata": {
        "id": "cvJIO2jMgLz1"
      },
      "outputs": [],
      "source": [
        "# W25-PAK-INP-AI-01\n",
        "# SYEDA ZAINAB FATIMA"
      ]
    },
    {
      "cell_type": "code",
      "source": [
        "# LIBRARIES"
      ],
      "metadata": {
        "id": "BQOeANlshfEC"
      },
      "execution_count": 2,
      "outputs": []
    },
    {
      "cell_type": "code",
      "source": [
        "# mymath.py (Library 1)\n",
        "def add(a, b):\n",
        "    \"\"\"Adds two numbers.\"\"\"\n",
        "    return a + b\n",
        "\n",
        "def multiply(a, b):\n",
        "    \"\"\"Multiplies two numbers.\"\"\"\n",
        "    return a * b\n",
        "\n",
        "# filehandler.py (Library 2)\n",
        "def write_to_file(filename, content):\n",
        "    \"\"\"Writes content to a file.\"\"\"\n",
        "    with open(filename, 'w') as file:\n",
        "        file.write(content)\n",
        "\n",
        "def read_from_file(filename):\n",
        "    \"\"\"Reads content from a file.\"\"\"\n",
        "    with open(filename, 'r') as file:\n",
        "        return file.read()\n",
        "\n",
        "# strutils.py (Library 3)\n",
        "def reverse_string(s):\n",
        "    \"\"\"Reverses the input string.\"\"\"\n",
        "    return s[::-1]\n",
        "\n",
        "def to_uppercase(s):\n",
        "    \"\"\"Converts the string to uppercase.\"\"\"\n",
        "    return s.upper()\n",
        "\n",
        "# mathutils.py (Library 4)\n",
        "def square(num):\n",
        "    \"\"\"Returns the square of a number.\"\"\"\n",
        "    return num ** 2\n",
        "\n",
        "def cube(num):\n",
        "    \"\"\"Returns the cube of a number.\"\"\"\n",
        "    return num ** 3\n",
        "\n",
        "# dateutils.py (Library 5)\n",
        "import datetime\n",
        "\n",
        "def get_current_date():\n",
        "    \"\"\"Returns the current date.\"\"\"\n",
        "    return datetime.date.today()\n",
        "\n",
        "def get_current_time():\n",
        "    \"\"\"Returns the current time.\"\"\"\n",
        "    return datetime.datetime.now().time()\n",
        "\n",
        "# Main script using all the libraries\n",
        "print(\"Using mymath library:\")\n",
        "# Calling 2 functions from mymath.py\n",
        "print(f\"Addition of 5 and 3: {add(5, 3)}\")          # First function from mymath\n",
        "print(f\"Multiplication of 5 and 3: {multiply(5, 3)}\")  # Second function from mymath\n",
        "\n",
        "print(\"\\nUsing filehandler library:\")\n",
        "# Calling 2 functions from filehandler.py\n",
        "filename = \"test.txt\"\n",
        "write_to_file(filename, \"This is a test file.\")      # First function from filehandler\n",
        "print(f\"Content of file: {read_from_file(filename)}\")  # Second function from filehandler\n",
        "\n",
        "print(\"\\nUsing strutils library:\")\n",
        "# Calling 2 functions from strutils.py\n",
        "print(f\"Reversed string of 'hello': {reverse_string('hello')}\")  # First function from strutils\n",
        "print(f\"Uppercase string of 'hello': {to_uppercase('hello')}\")  # Second function from strutils\n",
        "\n",
        "print(\"\\nUsing mathutils library:\")\n",
        "# Calling 2 functions from mathutils.py\n",
        "print(f\"Square of 4: {square(4)}\")  # First function from mathutils\n",
        "print(f\"Cube of 3: {cube(3)}\")    # Second function from mathutils\n",
        "\n",
        "print(\"\\nUsing dateutils library:\")\n",
        "# Calling 2 functions from dateutils.py\n",
        "print(f\"Current date: {get_current_date()}\")  # First function from dateutils\n",
        "print(f\"Current time: {get_current_time()}\")  # Second function from dateutils"
      ],
      "metadata": {
        "colab": {
          "base_uri": "https://localhost:8080/"
        },
        "id": "D8LJkjS2hZsC",
        "outputId": "a3e9f74c-2bdf-42e2-9fb3-c2d4160dc35c"
      },
      "execution_count": 1,
      "outputs": [
        {
          "output_type": "stream",
          "name": "stdout",
          "text": [
            "Using mymath library:\n",
            "Addition of 5 and 3: 8\n",
            "Multiplication of 5 and 3: 15\n",
            "\n",
            "Using filehandler library:\n",
            "Content of file: This is a test file.\n",
            "\n",
            "Using strutils library:\n",
            "Reversed string of 'hello': olleh\n",
            "Uppercase string of 'hello': HELLO\n",
            "\n",
            "Using mathutils library:\n",
            "Square of 4: 16\n",
            "Cube of 3: 27\n",
            "\n",
            "Using dateutils library:\n",
            "Current date: 2024-12-21\n",
            "Current time: 09:22:40.217874\n"
          ]
        }
      ]
    }
  ]
}